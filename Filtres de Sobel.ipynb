{
 "cells": [
  {
   "cell_type": "code",
   "execution_count": 22,
   "id": "a291d7b6",
   "metadata": {},
   "outputs": [],
   "source": [
    "import numpy as np\n",
    "import cv2\n",
    "import matplotlib.pyplot as plt\n",
    "import os"
   ]
  },
  {
   "cell_type": "code",
   "execution_count": 23,
   "id": "ec66935a",
   "metadata": {},
   "outputs": [],
   "source": [
    "image_name = 'image.jpg'\n",
    "if not os.path.exists(image_name):\n",
    "    print('Put image with name image.jpg in folder')"
   ]
  },
  {
   "cell_type": "code",
   "execution_count": 24,
   "id": "7acf1e7d",
   "metadata": {},
   "outputs": [],
   "source": [
    "image = cv2.imread(image_name, cv2.IMREAD_GRAYSCALE)\n",
    "# Ajout de colonnes aux frontières\n",
    "col = image[:,0]\n",
    "image = np.column_stack((col,image))\n",
    "col = image[:,len(image[0])-1]\n",
    "image = np.column_stack((image,col))\n",
    "row = image[0,:]\n",
    "image = np.row_stack((row,image))\n",
    "row = image[len(image)-1,:]\n",
    "image = np.row_stack((image,row))"
   ]
  },
  {
   "cell_type": "code",
   "execution_count": null,
   "id": "e663ac7a",
   "metadata": {},
   "outputs": [],
   "source": [
    "height = len(image)\n",
    "width = len(image[0])\n",
    "Gx = np.zeros((height,width), 'float')\n",
    "Gy = np.zeros((height,width), 'float')\n",
    "# Filtres de Sobel\n",
    "SobelX = [[-1.0,0.0,1.0],[-2.0,0.0,2.0],[-1.0,0.0,1.0]]\n",
    "SobelY = [[-1.0,-2.0,-1.0],[0.0,0.0,0.0],[1.0,2.0,1.0]]\n",
    "for row in range(1, len(image)-1):\n",
    "    for col in range(1, len(image[row])-1):\n",
    "        for i in range(-1,2):\n",
    "            for j in range(-1, 2):\n",
    "                Gx[row-1][col-1] += np.multiply(SobelX[i+1][j+1], image[row-i][col-j])\n",
    "                Gy[row-1][col-1] += np.multiply(SobelY[i+1][j+1], image[row-i][col-j])"
   ]
  },
  {
   "cell_type": "code",
   "execution_count": null,
   "id": "681fb999",
   "metadata": {},
   "outputs": [],
   "source": [
    "Gxout = np.absolute(Gx)\n",
    "Gxout = 255 * Gxout / np.max(Gxout)\n",
    "Gyout = np.absolute(Gy)\n",
    "Gyout = 255 * Gyout / np.max(Gyout)\n",
    "ForceGradients = np.sqrt(np.power(Gx,2)+np.power(Gy,2))"
   ]
  },
  {
   "cell_type": "code",
   "execution_count": null,
   "id": "3b9191d3",
   "metadata": {},
   "outputs": [],
   "source": [
    "aretes = ForceGradients > 80\n",
    "plt.figure(figsize = (10,10))\n",
    "plt.imshow(aretes, plt.get_cmap('binary'))\n",
    "plt.show()"
   ]
  },
  {
   "cell_type": "code",
   "execution_count": null,
   "id": "e55040f1",
   "metadata": {},
   "outputs": [],
   "source": []
  },
  {
   "cell_type": "code",
   "execution_count": null,
   "id": "5a806e50",
   "metadata": {},
   "outputs": [],
   "source": []
  }
 ],
 "metadata": {
  "kernelspec": {
   "display_name": "Python 3 (ipykernel)",
   "language": "python",
   "name": "python3"
  },
  "language_info": {
   "codemirror_mode": {
    "name": "ipython",
    "version": 3
   },
   "file_extension": ".py",
   "mimetype": "text/x-python",
   "name": "python",
   "nbconvert_exporter": "python",
   "pygments_lexer": "ipython3",
   "version": "3.11.5"
  }
 },
 "nbformat": 4,
 "nbformat_minor": 5
}
